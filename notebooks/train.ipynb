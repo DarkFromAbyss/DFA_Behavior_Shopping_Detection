{
  "cells": [
    {
      "cell_type": "code",
      "execution_count": 1,
      "metadata": {
        "colab": {
          "base_uri": "https://localhost:8080/"
        },
        "id": "YJNLbR5sByvT",
        "outputId": "a11a5740-8385-4d77-cb84-67cd161ff13e"
      },
      "outputs": [
        {
          "output_type": "stream",
          "name": "stdout",
          "text": [
            "Mounted at /content/drive\n"
          ]
        }
      ],
      "source": [
        "# Ket noi google drive\n",
        "from google.colab import drive\n",
        "drive.mount('/content/drive')"
      ]
    },
    {
      "cell_type": "code",
      "source": [
        "!pip install roboflow\n",
        "!pip install ultralytics"
      ],
      "metadata": {
        "id": "C6-8hbNlmPRE",
        "outputId": "1deae878-d67e-44e7-8a31-b969a16c2e72",
        "colab": {
          "base_uri": "https://localhost:8080/"
        }
      },
      "execution_count": 3,
      "outputs": [
        {
          "output_type": "stream",
          "name": "stdout",
          "text": [
            "Collecting roboflow\n",
            "  Downloading roboflow-1.2.10-py3-none-any.whl.metadata (9.7 kB)\n",
            "Requirement already satisfied: certifi in /usr/local/lib/python3.12/dist-packages (from roboflow) (2025.8.3)\n",
            "Collecting idna==3.7 (from roboflow)\n",
            "  Downloading idna-3.7-py3-none-any.whl.metadata (9.9 kB)\n",
            "Requirement already satisfied: cycler in /usr/local/lib/python3.12/dist-packages (from roboflow) (0.12.1)\n",
            "Requirement already satisfied: kiwisolver>=1.3.1 in /usr/local/lib/python3.12/dist-packages (from roboflow) (1.4.9)\n",
            "Requirement already satisfied: matplotlib in /usr/local/lib/python3.12/dist-packages (from roboflow) (3.10.0)\n",
            "Requirement already satisfied: numpy>=1.18.5 in /usr/local/lib/python3.12/dist-packages (from roboflow) (2.0.2)\n",
            "Collecting opencv-python-headless==4.10.0.84 (from roboflow)\n",
            "  Downloading opencv_python_headless-4.10.0.84-cp37-abi3-manylinux_2_17_x86_64.manylinux2014_x86_64.whl.metadata (20 kB)\n",
            "Requirement already satisfied: Pillow>=7.1.2 in /usr/local/lib/python3.12/dist-packages (from roboflow) (11.3.0)\n",
            "Collecting pi-heif<2 (from roboflow)\n",
            "  Downloading pi_heif-1.1.1-cp312-cp312-manylinux_2_27_x86_64.manylinux_2_28_x86_64.whl.metadata (6.5 kB)\n",
            "Collecting pillow-avif-plugin<2 (from roboflow)\n",
            "  Downloading pillow_avif_plugin-1.5.2-cp312-cp312-manylinux_2_28_x86_64.whl.metadata (2.1 kB)\n",
            "Requirement already satisfied: python-dateutil in /usr/local/lib/python3.12/dist-packages (from roboflow) (2.9.0.post0)\n",
            "Requirement already satisfied: python-dotenv in /usr/local/lib/python3.12/dist-packages (from roboflow) (1.1.1)\n",
            "Requirement already satisfied: requests in /usr/local/lib/python3.12/dist-packages (from roboflow) (2.32.4)\n",
            "Requirement already satisfied: six in /usr/local/lib/python3.12/dist-packages (from roboflow) (1.17.0)\n",
            "Requirement already satisfied: urllib3>=1.26.6 in /usr/local/lib/python3.12/dist-packages (from roboflow) (2.5.0)\n",
            "Requirement already satisfied: tqdm>=4.41.0 in /usr/local/lib/python3.12/dist-packages (from roboflow) (4.67.1)\n",
            "Requirement already satisfied: PyYAML>=5.3.1 in /usr/local/lib/python3.12/dist-packages (from roboflow) (6.0.3)\n",
            "Requirement already satisfied: requests-toolbelt in /usr/local/lib/python3.12/dist-packages (from roboflow) (1.0.0)\n",
            "Collecting filetype (from roboflow)\n",
            "  Downloading filetype-1.2.0-py2.py3-none-any.whl.metadata (6.5 kB)\n",
            "Requirement already satisfied: contourpy>=1.0.1 in /usr/local/lib/python3.12/dist-packages (from matplotlib->roboflow) (1.3.3)\n",
            "Requirement already satisfied: fonttools>=4.22.0 in /usr/local/lib/python3.12/dist-packages (from matplotlib->roboflow) (4.60.1)\n",
            "Requirement already satisfied: packaging>=20.0 in /usr/local/lib/python3.12/dist-packages (from matplotlib->roboflow) (25.0)\n",
            "Requirement already satisfied: pyparsing>=2.3.1 in /usr/local/lib/python3.12/dist-packages (from matplotlib->roboflow) (3.2.5)\n",
            "Requirement already satisfied: charset_normalizer<4,>=2 in /usr/local/lib/python3.12/dist-packages (from requests->roboflow) (3.4.3)\n",
            "Downloading roboflow-1.2.10-py3-none-any.whl (89 kB)\n",
            "\u001b[2K   \u001b[90m━━━━━━━━━━━━━━━━━━━━━━━━━━━━━━━━━━━━━━━━\u001b[0m \u001b[32m89.8/89.8 kB\u001b[0m \u001b[31m7.3 MB/s\u001b[0m eta \u001b[36m0:00:00\u001b[0m\n",
            "\u001b[?25hDownloading idna-3.7-py3-none-any.whl (66 kB)\n",
            "\u001b[2K   \u001b[90m━━━━━━━━━━━━━━━━━━━━━━━━━━━━━━━━━━━━━━━━\u001b[0m \u001b[32m66.8/66.8 kB\u001b[0m \u001b[31m7.0 MB/s\u001b[0m eta \u001b[36m0:00:00\u001b[0m\n",
            "\u001b[?25hDownloading opencv_python_headless-4.10.0.84-cp37-abi3-manylinux_2_17_x86_64.manylinux2014_x86_64.whl (49.9 MB)\n",
            "\u001b[2K   \u001b[90m━━━━━━━━━━━━━━━━━━━━━━━━━━━━━━━━━━━━━━━━\u001b[0m \u001b[32m49.9/49.9 MB\u001b[0m \u001b[31m24.2 MB/s\u001b[0m eta \u001b[36m0:00:00\u001b[0m\n",
            "\u001b[?25hDownloading pi_heif-1.1.1-cp312-cp312-manylinux_2_27_x86_64.manylinux_2_28_x86_64.whl (1.4 MB)\n",
            "\u001b[2K   \u001b[90m━━━━━━━━━━━━━━━━━━━━━━━━━━━━━━━━━━━━━━━━\u001b[0m \u001b[32m1.4/1.4 MB\u001b[0m \u001b[31m87.1 MB/s\u001b[0m eta \u001b[36m0:00:00\u001b[0m\n",
            "\u001b[?25hDownloading pillow_avif_plugin-1.5.2-cp312-cp312-manylinux_2_28_x86_64.whl (4.2 MB)\n",
            "\u001b[2K   \u001b[90m━━━━━━━━━━━━━━━━━━━━━━━━━━━━━━━━━━━━━━━━\u001b[0m \u001b[32m4.2/4.2 MB\u001b[0m \u001b[31m120.0 MB/s\u001b[0m eta \u001b[36m0:00:00\u001b[0m\n",
            "\u001b[?25hDownloading filetype-1.2.0-py2.py3-none-any.whl (19 kB)\n",
            "Installing collected packages: pillow-avif-plugin, filetype, pi-heif, opencv-python-headless, idna, roboflow\n",
            "  Attempting uninstall: opencv-python-headless\n",
            "    Found existing installation: opencv-python-headless 4.12.0.88\n",
            "    Uninstalling opencv-python-headless-4.12.0.88:\n",
            "      Successfully uninstalled opencv-python-headless-4.12.0.88\n",
            "  Attempting uninstall: idna\n",
            "    Found existing installation: idna 3.10\n",
            "    Uninstalling idna-3.10:\n",
            "      Successfully uninstalled idna-3.10\n",
            "Successfully installed filetype-1.2.0 idna-3.7 opencv-python-headless-4.10.0.84 pi-heif-1.1.1 pillow-avif-plugin-1.5.2 roboflow-1.2.10\n",
            "Collecting ultralytics\n",
            "  Downloading ultralytics-8.3.205-py3-none-any.whl.metadata (37 kB)\n",
            "Requirement already satisfied: numpy>=1.23.0 in /usr/local/lib/python3.12/dist-packages (from ultralytics) (2.0.2)\n",
            "Requirement already satisfied: matplotlib>=3.3.0 in /usr/local/lib/python3.12/dist-packages (from ultralytics) (3.10.0)\n",
            "Requirement already satisfied: opencv-python>=4.6.0 in /usr/local/lib/python3.12/dist-packages (from ultralytics) (4.12.0.88)\n",
            "Requirement already satisfied: pillow>=7.1.2 in /usr/local/lib/python3.12/dist-packages (from ultralytics) (11.3.0)\n",
            "Requirement already satisfied: pyyaml>=5.3.1 in /usr/local/lib/python3.12/dist-packages (from ultralytics) (6.0.3)\n",
            "Requirement already satisfied: requests>=2.23.0 in /usr/local/lib/python3.12/dist-packages (from ultralytics) (2.32.4)\n",
            "Requirement already satisfied: scipy>=1.4.1 in /usr/local/lib/python3.12/dist-packages (from ultralytics) (1.16.2)\n",
            "Requirement already satisfied: torch>=1.8.0 in /usr/local/lib/python3.12/dist-packages (from ultralytics) (2.8.0+cu126)\n",
            "Requirement already satisfied: torchvision>=0.9.0 in /usr/local/lib/python3.12/dist-packages (from ultralytics) (0.23.0+cu126)\n",
            "Requirement already satisfied: psutil in /usr/local/lib/python3.12/dist-packages (from ultralytics) (5.9.5)\n",
            "Requirement already satisfied: polars in /usr/local/lib/python3.12/dist-packages (from ultralytics) (1.25.2)\n",
            "Collecting ultralytics-thop>=2.0.0 (from ultralytics)\n",
            "  Downloading ultralytics_thop-2.0.17-py3-none-any.whl.metadata (14 kB)\n",
            "Requirement already satisfied: contourpy>=1.0.1 in /usr/local/lib/python3.12/dist-packages (from matplotlib>=3.3.0->ultralytics) (1.3.3)\n",
            "Requirement already satisfied: cycler>=0.10 in /usr/local/lib/python3.12/dist-packages (from matplotlib>=3.3.0->ultralytics) (0.12.1)\n",
            "Requirement already satisfied: fonttools>=4.22.0 in /usr/local/lib/python3.12/dist-packages (from matplotlib>=3.3.0->ultralytics) (4.60.1)\n",
            "Requirement already satisfied: kiwisolver>=1.3.1 in /usr/local/lib/python3.12/dist-packages (from matplotlib>=3.3.0->ultralytics) (1.4.9)\n",
            "Requirement already satisfied: packaging>=20.0 in /usr/local/lib/python3.12/dist-packages (from matplotlib>=3.3.0->ultralytics) (25.0)\n",
            "Requirement already satisfied: pyparsing>=2.3.1 in /usr/local/lib/python3.12/dist-packages (from matplotlib>=3.3.0->ultralytics) (3.2.5)\n",
            "Requirement already satisfied: python-dateutil>=2.7 in /usr/local/lib/python3.12/dist-packages (from matplotlib>=3.3.0->ultralytics) (2.9.0.post0)\n",
            "Requirement already satisfied: charset_normalizer<4,>=2 in /usr/local/lib/python3.12/dist-packages (from requests>=2.23.0->ultralytics) (3.4.3)\n",
            "Requirement already satisfied: idna<4,>=2.5 in /usr/local/lib/python3.12/dist-packages (from requests>=2.23.0->ultralytics) (3.7)\n",
            "Requirement already satisfied: urllib3<3,>=1.21.1 in /usr/local/lib/python3.12/dist-packages (from requests>=2.23.0->ultralytics) (2.5.0)\n",
            "Requirement already satisfied: certifi>=2017.4.17 in /usr/local/lib/python3.12/dist-packages (from requests>=2.23.0->ultralytics) (2025.8.3)\n",
            "Requirement already satisfied: filelock in /usr/local/lib/python3.12/dist-packages (from torch>=1.8.0->ultralytics) (3.19.1)\n",
            "Requirement already satisfied: typing-extensions>=4.10.0 in /usr/local/lib/python3.12/dist-packages (from torch>=1.8.0->ultralytics) (4.15.0)\n",
            "Requirement already satisfied: setuptools in /usr/local/lib/python3.12/dist-packages (from torch>=1.8.0->ultralytics) (75.2.0)\n",
            "Requirement already satisfied: sympy>=1.13.3 in /usr/local/lib/python3.12/dist-packages (from torch>=1.8.0->ultralytics) (1.13.3)\n",
            "Requirement already satisfied: networkx in /usr/local/lib/python3.12/dist-packages (from torch>=1.8.0->ultralytics) (3.5)\n",
            "Requirement already satisfied: jinja2 in /usr/local/lib/python3.12/dist-packages (from torch>=1.8.0->ultralytics) (3.1.6)\n",
            "Requirement already satisfied: fsspec in /usr/local/lib/python3.12/dist-packages (from torch>=1.8.0->ultralytics) (2025.3.0)\n",
            "Requirement already satisfied: nvidia-cuda-nvrtc-cu12==12.6.77 in /usr/local/lib/python3.12/dist-packages (from torch>=1.8.0->ultralytics) (12.6.77)\n",
            "Requirement already satisfied: nvidia-cuda-runtime-cu12==12.6.77 in /usr/local/lib/python3.12/dist-packages (from torch>=1.8.0->ultralytics) (12.6.77)\n",
            "Requirement already satisfied: nvidia-cuda-cupti-cu12==12.6.80 in /usr/local/lib/python3.12/dist-packages (from torch>=1.8.0->ultralytics) (12.6.80)\n",
            "Requirement already satisfied: nvidia-cudnn-cu12==9.10.2.21 in /usr/local/lib/python3.12/dist-packages (from torch>=1.8.0->ultralytics) (9.10.2.21)\n",
            "Requirement already satisfied: nvidia-cublas-cu12==12.6.4.1 in /usr/local/lib/python3.12/dist-packages (from torch>=1.8.0->ultralytics) (12.6.4.1)\n",
            "Requirement already satisfied: nvidia-cufft-cu12==11.3.0.4 in /usr/local/lib/python3.12/dist-packages (from torch>=1.8.0->ultralytics) (11.3.0.4)\n",
            "Requirement already satisfied: nvidia-curand-cu12==10.3.7.77 in /usr/local/lib/python3.12/dist-packages (from torch>=1.8.0->ultralytics) (10.3.7.77)\n",
            "Requirement already satisfied: nvidia-cusolver-cu12==11.7.1.2 in /usr/local/lib/python3.12/dist-packages (from torch>=1.8.0->ultralytics) (11.7.1.2)\n",
            "Requirement already satisfied: nvidia-cusparse-cu12==12.5.4.2 in /usr/local/lib/python3.12/dist-packages (from torch>=1.8.0->ultralytics) (12.5.4.2)\n",
            "Requirement already satisfied: nvidia-cusparselt-cu12==0.7.1 in /usr/local/lib/python3.12/dist-packages (from torch>=1.8.0->ultralytics) (0.7.1)\n",
            "Requirement already satisfied: nvidia-nccl-cu12==2.27.3 in /usr/local/lib/python3.12/dist-packages (from torch>=1.8.0->ultralytics) (2.27.3)\n",
            "Requirement already satisfied: nvidia-nvtx-cu12==12.6.77 in /usr/local/lib/python3.12/dist-packages (from torch>=1.8.0->ultralytics) (12.6.77)\n",
            "Requirement already satisfied: nvidia-nvjitlink-cu12==12.6.85 in /usr/local/lib/python3.12/dist-packages (from torch>=1.8.0->ultralytics) (12.6.85)\n",
            "Requirement already satisfied: nvidia-cufile-cu12==1.11.1.6 in /usr/local/lib/python3.12/dist-packages (from torch>=1.8.0->ultralytics) (1.11.1.6)\n",
            "Requirement already satisfied: triton==3.4.0 in /usr/local/lib/python3.12/dist-packages (from torch>=1.8.0->ultralytics) (3.4.0)\n",
            "Requirement already satisfied: six>=1.5 in /usr/local/lib/python3.12/dist-packages (from python-dateutil>=2.7->matplotlib>=3.3.0->ultralytics) (1.17.0)\n",
            "Requirement already satisfied: mpmath<1.4,>=1.1.0 in /usr/local/lib/python3.12/dist-packages (from sympy>=1.13.3->torch>=1.8.0->ultralytics) (1.3.0)\n",
            "Requirement already satisfied: MarkupSafe>=2.0 in /usr/local/lib/python3.12/dist-packages (from jinja2->torch>=1.8.0->ultralytics) (3.0.3)\n",
            "Downloading ultralytics-8.3.205-py3-none-any.whl (1.1 MB)\n",
            "\u001b[2K   \u001b[90m━━━━━━━━━━━━━━━━━━━━━━━━━━━━━━━━━━━━━━━━\u001b[0m \u001b[32m1.1/1.1 MB\u001b[0m \u001b[31m28.4 MB/s\u001b[0m eta \u001b[36m0:00:00\u001b[0m\n",
            "\u001b[?25hDownloading ultralytics_thop-2.0.17-py3-none-any.whl (28 kB)\n",
            "Installing collected packages: ultralytics-thop, ultralytics\n",
            "Successfully installed ultralytics-8.3.205 ultralytics-thop-2.0.17\n"
          ]
        }
      ]
    },
    {
      "cell_type": "code",
      "execution_count": 4,
      "metadata": {
        "id": "8lB9Ei_ZVJsv",
        "outputId": "8eddd235-3591-40ba-cbfc-93d4172fef7c",
        "colab": {
          "base_uri": "https://localhost:8080/"
        }
      },
      "outputs": [
        {
          "output_type": "stream",
          "name": "stdout",
          "text": [
            "Creating new Ultralytics Settings v0.0.6 file ✅ \n",
            "View Ultralytics Settings with 'yolo settings' or at '/root/.config/Ultralytics/settings.json'\n",
            "Update Settings with 'yolo settings key=value', i.e. 'yolo settings runs_dir=path/to/dir'. For help see https://docs.ultralytics.com/quickstart/#ultralytics-settings.\n"
          ]
        }
      ],
      "source": [
        "import os\n",
        "import shutil\n",
        "import yaml\n",
        "\n",
        "import numpy as np\n",
        "import pandas as pd\n",
        "\n",
        "from roboflow import Roboflow\n",
        "from ultralytics import YOLO\n",
        "\n",
        "import matplotlib.pyplot as plt\n",
        "import matplotlib.gridspec as gridspec\n"
      ]
    },
    {
      "cell_type": "code",
      "execution_count": 5,
      "metadata": {
        "id": "-y2NAzRcszzG",
        "outputId": "65193600-ef1d-4b57-9e79-edbc9c354ff6",
        "colab": {
          "base_uri": "https://localhost:8080/",
          "height": 35
        }
      },
      "outputs": [
        {
          "output_type": "execute_result",
          "data": {
            "text/plain": [
              "'/content'"
            ],
            "application/vnd.google.colaboratory.intrinsic+json": {
              "type": "string"
            }
          },
          "metadata": {},
          "execution_count": 5
        }
      ],
      "source": [
        "ROOT = os.getcwd()\n",
        "ROOT"
      ]
    },
    {
      "cell_type": "code",
      "execution_count": null,
      "metadata": {
        "id": "j8B2gvALCS3x"
      },
      "outputs": [],
      "source": [
        "\n",
        ""
      ]
    },
    {
      "cell_type": "code",
      "execution_count": null,
      "metadata": {
        "id": "ksZH1cMxWGzY"
      },
      "outputs": [],
      "source": [
        "import shutil\n",
        "\n",
        "# --- Thiết lập biến đường dẫn ---\n",
        "# Đổi tên thư mục này thành tên thư mục bạn đã tải lên Colab\n",
        "SOURCE_FOLDER_NAME = \"combined-trolley-1\"\n",
        "SOURCE_PATH = f\"/content/{SOURCE_FOLDER_NAME}\"\n",
        "\n",
        "# Tên thư mục đích trong Google Drive (sẽ được tạo nếu chưa tồn tại)\n",
        "# Ví dụ: sẽ lưu vào /MyDrive/Colab_Saves/\n",
        "DRIVE_DESTINATION_FOLDER = \"Computer_Vision\"\n",
        "DESTINATION_PATH = f\"/content/drive/MyDrive/{DRIVE_DESTINATION_FOLDER}/{SOURCE_FOLDER_NAME}\"\n",
        "\n",
        "# --- Bước 1: Gắn kết Google Drive ---\n",
        "print(\"Bắt đầu gắn kết Google Drive...\")\n",
        "\n",
        "# --- Bước 2: Kiểm tra thư mục nguồn (SOURCE) ---\n",
        "if not os.path.exists(SOURCE_PATH):\n",
        "    print(f\"\\nLỖI: Không tìm thấy thư mục nguồn tại: {SOURCE_PATH}\")\n",
        "    print(f\"Hãy đảm bảo bạn đã tải lên thư mục tên '{SOURCE_FOLDER_NAME}' vào Colab.\")\n",
        "else:\n",
        "    print(f\"\\nThư mục nguồn đã sẵn sàng: {SOURCE_PATH}\")\n",
        "\n",
        "    # --- Bước 3: Thực hiện sao chép ---\n",
        "    print(f\"Bắt đầu sao chép thư mục '{SOURCE_FOLDER_NAME}' vào Drive...\")\n",
        "    try:\n",
        "        # Tạo thư mục đích trong Drive nếu chưa có\n",
        "        drive_save_dir = os.path.dirname(DESTINATION_PATH)\n",
        "        os.makedirs(drive_save_dir, exist_ok=True)\n",
        "\n",
        "        # Nếu thư mục đích đã tồn tại trong Drive, ta cần xóa nó trước\n",
        "        # để tránh lỗi khi dùng shutil.copytree, hoặc đổi sang dùng lệnh shell !cp -r\n",
        "\n",
        "        # Phương pháp 1: Sử dụng lệnh shell (thường nhanh hơn và dễ dàng hơn trong Colab)\n",
        "        # Sử dụng !cp -r (copy recursive) để sao chép toàn bộ thư mục và nội dung\n",
        "        !cp -r \"$SOURCE_PATH\" \"$DESTINATION_PATH\"\n",
        "        print(f\"\\nQUAN TRỌNG: Đã sao chép thành công tới Drive tại: /MyDrive/{DRIVE_DESTINATION_FOLDER}/{SOURCE_FOLDER_NAME}\")\n",
        "\n",
        "        # Phương pháp 2 (Dùng Python shutil, cần xử lý xóa thư mục đích nếu đã tồn tại)\n",
        "        # if os.path.exists(DESTINATION_PATH):\n",
        "        #     shutil.rmtree(DESTINATION_PATH)\n",
        "        # shutil.copytree(SOURCE_PATH, DESTINATION_PATH)\n",
        "\n",
        "    except Exception as e:\n",
        "        print(f\"\\nLỗi trong quá trình sao chép: {e}\")\n",
        "        print(\"Vui lòng kiểm tra lại đường dẫn và quyền truy cập Drive.\")\n",
        "\n",
        "print(\"\\nQuá trình lưu trữ hoàn tất.\")\n"
      ]
    },
    {
      "cell_type": "code",
      "execution_count": null,
      "metadata": {
        "id": "KgI-Y3nYXjhk"
      },
      "outputs": [],
      "source": [
        "os.listdir(DESTINATION_PATH)"
      ]
    },
    {
      "cell_type": "code",
      "execution_count": null,
      "metadata": {
        "id": "6C1LH909Xtgn"
      },
      "outputs": [],
      "source": [
        "import yaml\n",
        "\n",
        "# Kiem tra file yaml\n",
        "with open (f\"{DESTINATION_PATH}/data.yaml\", 'r') as file:\n",
        "    # num_classes = str(yaml.safe_load(stream)['nc'])\n",
        "    config = yaml.safe_load(file)\n",
        "    print(config)"
      ]
    },
    {
      "cell_type": "code",
      "execution_count": null,
      "metadata": {
        "id": "HGIuclaLX_6u"
      },
      "outputs": [],
      "source": [
        "print(f\"So luong du lieu tap train: {len(os.listdir(f'{DESTINATION_PATH}/train/images'))}\")\n",
        "print(f\"So luong du lieu tap val: {len(os.listdir(f'{DESTINATION_PATH}/valid/images'))}\")"
      ]
    },
    {
      "cell_type": "code",
      "execution_count": null,
      "metadata": {
        "id": "OlvZNHnPFOOd"
      },
      "outputs": [],
      "source": [
        "from ultralytics import YOLO\n",
        "import pandas as pd\n",
        "\n",
        "# Khởi tạo mô hình YOLOv8\n",
        "# Sử dụng 'yolov8n.pt' (nano) để bắt đầu nhanh, hoặc 'yolov8s.pt' (small) cho hiệu suất tốt hơn\n",
        "model = YOLO('yolov8n.pt')\n",
        "\n",
        "print(\"\\nBắt đầu quá trình huấn luyện YOLOv8...\")\n",
        "\n",
        "# Lệnh huấn luyện\n",
        "# --data: Đường dẫn đến file data.yaml (chứa thông tin về đường dẫn tập train/val và số lượng class)\n",
        "# --epochs: Số lượng epoch huấn luyện\n",
        "# --imgsz: Kích thước ảnh đầu vào (ví dụ 640x640)\n",
        "# --batch: Kích thước batch size (tùy thuộc vào GPU, 16 là mức an toàn)\n",
        "# --project: Thư mục gốc để lưu kết quả\n",
        "# --name: Tên thư mục con cụ thể cho lần chạy này\n",
        "\n",
        "RESULTS_PATH = f\"/content/drive/MyDrive/{DRIVE_DESTINATION_FOLDER}/{SOURCE_FOLDER_NAME}_trainer\"\n",
        "drive_save_dir_trainer = os.path.dirname(RESULTS_PATH)\n",
        "os.makedirs(drive_save_dir_trainer, exist_ok=True)\n",
        "results = model.train(\n",
        "    data=f\"{DESTINATION_PATH}/data.yaml\",  # File cấu hình dữ liệu từ Roboflow\n",
        "    epochs=100,            # Số lượng epoch (thử nghiệm với 50-100)\n",
        "    imgsz=320,            # Kích thước hình ảnh\n",
        "    batch=16,             # Kích thước batch\n",
        "    project=RESULTS_PATH, # Lưu kết quả vào Google Drive\n",
        "    patience=50,\n",
        "    name='demo_run'  # Tên lần chạy\n",
        "    # plots = True\n",
        ")"
      ]
    },
    {
      "cell_type": "code",
      "execution_count": null,
      "metadata": {
        "id": "PeZv-zHkg-EZ"
      },
      "outputs": [],
      "source": [
        "# df = pd.DataFrame()\n",
        "run_dir = results.save_dir\n",
        "print(f\"Run Dir {run_dir}\")\n",
        "results_csv_path = os.path.join(run_dir, 'results.csv')\n",
        "\n",
        "print(f\"\\n3. Huấn luyện hoàn tất. Đường dẫn kết quả: {run_dir}\")\n",
        "\n",
        "# --- Trích xuất dữ liệu mAP từ file CSV ---\n",
        "if os.path.exists(results_csv_path):\n",
        "    print(\"4. Đang đọc và trích xuất chỉ số mAP từ results.csv...\")\n",
        "\n",
        "    # Đọc file CSV, bỏ qua 6 dòng đầu tiên (chứa comments/header không cần thiết)\n",
        "    df = pd.read_csv(results_csv_path)\n",
        "\n",
        "# Thong tin columns cua df\n",
        "df.columns"
      ]
    },
    {
      "cell_type": "code",
      "execution_count": null,
      "metadata": {
        "id": "AaJFkEUNhrsg"
      },
      "outputs": [],
      "source": [
        "\n",
        "\n",
        "def create_custom_subplot_layout():\n",
        "    \"\"\"\n",
        "    Tạo một figure Matplotlib với bố cục 2 hàng:\n",
        "    - Hàng 1: 1 biểu đồ chính (chiếm toàn bộ chiều rộng).\n",
        "    - Hàng 2: 3 biểu đồ phụ.\n",
        "    \"\"\"\n",
        "\n",
        "    # 1. Khởi tạo Figure\n",
        "    fig = plt.figure(figsize=(12, 8))\n",
        "    fig.suptitle('Detection Metrics', fontsize=16)\n",
        "\n",
        "    # 2. Định nghĩa GridSpec (Lưới 2 Hàng x 3 Cột)\n",
        "    # Chúng ta cần 3 cột để chứa 3 biểu đồ phụ ở hàng dưới.\n",
        "    gs = gridspec.GridSpec(2, 3, figure=fig)\n",
        "\n",
        "    # 3. Biểu đồ Chính (Hàng 1)\n",
        "    # Chiếm hàng 0 (đầu tiên), và tất cả các cột (từ 0 đến 2)\n",
        "    ax_main = fig.add_subplot(gs[0, :])\n",
        "\n",
        "    # Tạo dữ liệu giả định\n",
        "    X = np.arange(1, 101)\n",
        "    Y1 = df['metrics/mAP50(B)']\n",
        "    Y2 = df['metrics/mAP50-95(B)']\n",
        "\n",
        "    # Vẽ biểu đồ chính\n",
        "    ax_main.plot(X, Y1, color='darkblue', linewidth=2)\n",
        "    ax_main.plot(X, Y2, color='darkgreen', linewidth=2)\n",
        "    # ax_main.bar(X, df['time'], width= 2)\n",
        "    ax_main.set_title('mAP50 | mAP50-95')\n",
        "    ax_main.grid(axis='y', linestyle='--', alpha=0.6)\n",
        "    ax_main.set_xlabel('Epochs')\n",
        "    ax_main.set_ylabel('Accuracy')\n",
        "\n",
        "    # 4. Ba Biểu đồ Phụ (Hàng 2)\n",
        "\n",
        "    # Biểu đồ phụ 1 (Hàng 1, Cột 0)\n",
        "    ax_sub1 = fig.add_subplot(gs[1, 0])\n",
        "    ax_sub1.plot(X, df['train/box_loss'], color='skyblue')\n",
        "    ax_sub1.grid(axis='y', linestyle='--', alpha=0.6)\n",
        "    ax_sub1.set_title('Train Box Loss')\n",
        "\n",
        "    # Biểu đồ phụ 2 (Hàng 1, Cột 1)\n",
        "    ax_sub2 = fig.add_subplot(gs[1, 1])\n",
        "    ax_sub2.plot(X, df['train/cls_loss'], color='red')\n",
        "    ax_sub2.grid(axis='y', linestyle='--', alpha=0.6)\n",
        "    ax_sub2.set_title('Train Class Loss')\n",
        "\n",
        "    # Biểu đồ phụ 3 (Hàng 1, Cột 2)\n",
        "    ax_sub3 = fig.add_subplot(gs[1, 2])\n",
        "    ax_sub3.plot(X, df['train/dfl_loss'], color='green')\n",
        "    ax_sub3.set_title('Train dfl Loss')\n",
        "    ax_sub3.grid(axis='y', linestyle='--', alpha=0.6)\n",
        "\n",
        "    # 5. Điều chỉnh khoảng cách giữa các biểu đồ để tránh chồng lấn\n",
        "    fig.tight_layout(rect=[0, 0.03, 1, 0.95]) # Điều chỉnh cho tiêu đề chính\n",
        "\n",
        "    # 6. Hiển thị Figure\n",
        "    plt.show()"
      ]
    },
    {
      "cell_type": "code",
      "execution_count": null,
      "metadata": {
        "id": "jY4up6kAjC1_"
      },
      "outputs": [],
      "source": [
        "    create_custom_subplot_layout()"
      ]
    },
    {
      "cell_type": "code",
      "execution_count": null,
      "metadata": {
        "id": "U3oWDE-unq0h"
      },
      "outputs": [],
      "source": []
    }
  ],
  "metadata": {
    "accelerator": "GPU",
    "colab": {
      "gpuType": "T4",
      "provenance": []
    },
    "kernelspec": {
      "display_name": "Python 3",
      "name": "python3"
    },
    "language_info": {
      "name": "python"
    }
  },
  "nbformat": 4,
  "nbformat_minor": 0
}